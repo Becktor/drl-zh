{
 "cells": [
  {
   "cell_type": "markdown",
   "metadata": {},
   "source": [
    "# Next\n",
    "\n",
    "Frontiers and advanced topics:\n",
    "\n",
    " * Model-based Reinforcement Learning\n",
    " * Exploration and Curiosity\n",
    " * Offline Reinforcement Learning\n",
    " * Imitation and Inverse Reinforcement Learning\n",
    " * Meta (learn how to learn) and Transfer Learning\n",
    " * Multi-Agent Reinforcement Learning (MARL)\n",
    "\n",
    "Check out:\n",
    " * [Towards A General Solution For Robotics](https://www.youtube.com/watch?v=l9pwlXXsi7Q)\n",
    "   by Peter Abbeel\n",
    " * [AlphaStar (2019)](https://deepmind.google/discover/blog/alphastar-grandmaster-level-in-starcraft-ii-using-multi-agent-reinforcement-learning/) and\n",
    "   [MuZero](https://deepmind.google/discover/blog/muzero-mastering-go-chess-shogi-and-atari-without-rules/)\n",
    "\n",
    "<br>\n",
    "<div style=\"width:30%\">\n",
    "  <img src=\"assets/07_Next_robot.png\">\n",
    "</div>\n",
    "<br>\n"
   ]
  }
 ],
 "metadata": {
  "language_info": {
   "name": "python"
  }
 },
 "nbformat": 4,
 "nbformat_minor": 2
}
