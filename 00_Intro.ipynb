{
 "cells": [
  {
   "cell_type": "markdown",
   "metadata": {},
   "source": [
    "# Welcome!\n",
    "\n",
    "Welcome to **Deep Reinforcement Learning: Zero to Hero!** A hands-on course about the fascinating\n",
    "world of Deep Reinforcement Learning!\n",
    "\n",
    "In this series, you will write the most recent and popular _model-free_ RL algorithms from scratch:\n",
    "replicating the [2013 breakthrough](https://arxiv.org/abs/1312.5602) learning to play Atari games,\n",
    "and landing a toy lunar lander module on the Moon using PPO - a state-of-the-art RL algorithm,\n",
    "recently applied to fine-tune large language models (LLMs) such as Chat GPT and Google Gemini via\n",
    "[RLHF](https://en.wikipedia.org/wiki/Reinforcement_learning_from_human_feedback)!\n"
   ]
  },
  {
   "cell_type": "markdown",
   "metadata": {},
   "source": [
    "<div style=\"width: 50%\">\n",
    "  <img src=\"assets/00_Intro_DQN_Atari.png\">\n",
    "</div>"
   ]
  },
  {
   "cell_type": "markdown",
   "metadata": {},
   "source": [
    "**NOTE**: The algorithms implemented in these lectures are optimized for _learning_. They retain\n",
    "the spirit and details of the real algorithms, but avoid any unnecessary code complexity for\n",
    "improving performance (e.g., move tensors between GPU and CPU, etc.)."
   ]
  },
  {
   "cell_type": "markdown",
   "metadata": {},
   "source": [
    "# Prerequisites\n",
    "\n",
    "In order to make the most out of this course, it is important to:\n",
    "\n",
    " * Be proficient in Python, or at least in one high-level programming language.\n",
    " * Be familiar with deep learning and neural networks.\n",
    " * To get into the theory and mathematics (optional), basic calculus, algebra, statistics, and\n",
    "   probability theory are required.\n",
    "\n",
    "<div>\n",
    "  <div style=\"width: 10%;display:inline-block;background-color:white;\">\n",
    "    <img src=\"assets/00_Intro_nn.svg\">\n",
    "  </div>\n",
    "  <div style=\"margin-left:50px;width:10%;margin-top:20px;display:inline-block;vertical-align:center\">\n",
    "    <img src=\"assets/00_Intro_python.png\">\n",
    "  </div>\n",
    "</div>\n",
    "\n",
    "But don't despair! There are plenty of resources to learn Python (e.g., [official tutorial](https://docs.python.org/3/tutorial/appetite.html),\n",
    "[W3Schools](https://www.w3schools.com/python/)). Regarding deep learning, a great resource\n",
    "is https://deeplearning.ai and its deep learning specialization taught by Andrew Ng."
   ]
  },
  {
   "cell_type": "markdown",
   "metadata": {},
   "source": [
    "# Why?\n",
    "\n",
    "Deep Reinforcement Learning is not as accessible as other topics in AI, such as deep learning and\n",
    "neural networks (for which there are lots of resources out there). Nonetheless, I personally find\n",
    "it incredibly interesting especially given the different formulation of the learning problem where\n",
    "an agent learns by _interaction_.\n",
    "\n",
    "<div style=\"width:30%\">\n",
    "  <img src=\"assets/00_Intro_robot.png\">\n",
    "  <br>\n",
    "  <small>From <a href=\"https://openai.com/research/solving-rubiks-cube\">OpenAI</a></small>\n",
    "</div>\n",
    "\n",
    "Moreover, terminology and theory tend to be sometimes unnecessarily and overly complicated, and\n",
    "there are limited hands-on or \"build from scratch\" material with good balance between theory and\n",
    "practice. Hence, I decided to create my own!"
   ]
  },
  {
   "cell_type": "markdown",
   "metadata": {},
   "source": [
    "# Credits\n",
    "\n",
    "This series wouldn't be possible without all the resources from which I learnt and that I actively\n",
    "consulted myself. In fact, there is very little novelty in this repository! My only hope is that\n",
    "this step by step guide of building up algorithms and theory from first principles and ground up\n",
    "will help more people to approach Deep RL in a practical way. Below you find all the resources that\n",
    "effectively contributed to this material."
   ]
  },
  {
   "cell_type": "markdown",
   "metadata": {},
   "source": [
    "# Resources\n",
    "\n",
    "[**Reinforcement Learning: An Introduction (2nd Edition) 2020**](http://incompleteideas.net/book/the-book-2nd.html):\n",
    "The bible of Reinforcement Learning, everybody should read this book to grasp the foundations.\n",
    "\n",
    "**[Foundations of Deep RL Lectures](https://www.youtube.com/playlist?list=PLwRJQ4m4UJjNymuBM9RdmB3Z9N5-0IlY0) by Peter Abbeel**:\n",
    "A comprehensive and theoretically complete basic introductions to Deep Reinforcement Learning by one\n",
    "of the biggest experts in the field. Part of this work explicitly references these lectures.\n",
    "\n",
    "**[Neural Networks: Zero to Hero](https://www.youtube.com/watch?v=VMj-3S1tku0&list=PLAqhIrjkxbuWI23v9cThsA9GvCAUhRvKZ) by Andrej Karpathy**:\n",
    "An introduction to deep neural networks from their foundations to advanced topics, starting from\n",
    "first principles the way the only Andrej (one of my heros!) can do! I shamelessly copied the title!\n",
    "\n",
    "**[Deep Reinforcement Learning Udacity Nanodegree](https://www.udacity.com/course/deep-reinforcement-learning-nanodegree--nd893)**: A Udacity nano-degree that I took, and helped me\n",
    "significantly in gaining experience and practice Deep RL. Some of the algorithms in this course are\n",
    "adaptation of algorithms I wrote for the exams of this course (and I'll link them on GitHub).\n",
    "\n",
    "**[OpenAI Spinning Up](https://spinningup.openai.com/en/latest/index.html)**: Educational resource\n",
    "produced by OpenAI that makes it easier to learn about deep reinforcement learning.\n",
    "\n",
    "**[Hugging Face Deep RL Course](https://huggingface.co/learn/deep-rl-course/en/unit0/introduction)**:\n",
    "Another incredibly easy to digest and pedagogic online resource about Deep RL! Thanks Hugging Face!\n",
    "\n",
    "**[CS-285 Berkeley](https://rail.eecs.berkeley.edu/deeprlcourse-fa22/)**: Course on Deep RL by the\n",
    "Berkeley University. \n",
    "\n",
    "[**CleanRL**](https://docs.cleanrl.dev/): Single-file implementations of most Deep RL algorithms,\n",
    "benchmarked and clean code.\n",
    "\n",
    "[**Deep RL Doesn't Work Yet**](https://www.alexirpan.com/2018/02/14/rl-hard.html): An incredible\n",
    "blog post about the challenges that Deep Reinforcement Learning faces today, a must read.\n",
    "\n",
    "[**Stable-Baselines3**](https://stable-baselines3.readthedocs.io/): Reliable implementations of RL\n",
    "algorithms in PyTorch.\n"
   ]
  },
  {
   "cell_type": "markdown",
   "metadata": {},
   "source": []
  }
 ],
 "metadata": {
  "kernelspec": {
   "display_name": "drlzh",
   "language": "python",
   "name": "python3"
  },
  "language_info": {
   "name": "python",
   "version": "3.11.7"
  }
 },
 "nbformat": 4,
 "nbformat_minor": 2
}
